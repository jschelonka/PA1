{
 "cells": [
  {
   "cell_type": "markdown",
   "id": "4c43083a",
   "metadata": {},
   "source": [
    "# PA1, Jacob Schelonka, 1.0,CS-150-02"
   ]
  },
  {
   "cell_type": "code",
   "execution_count": null,
   "id": "821d5259",
   "metadata": {},
   "outputs": [],
   "source": [
    "number1 = float(input('Enter a number with a decimal point: '))\n",
    "number2 = int(input('Enter an integer: '))\n",
    "\n",
    "print('The sum is ', number1 + number2)\n",
    "\n",
    "print('The difference is ', number1 - number2)\n",
    "\n",
    "print('The product is ', number1 * number2)\n",
    "\n",
    "print('The quotient is ', number1 / number2)\n",
    "\n",
    "print(\"The type for the result is \", type(number1))"
   ]
  },
  {
   "cell_type": "code",
   "execution_count": null,
   "id": "d33c53e9",
   "metadata": {},
   "outputs": [],
   "source": []
  }
 ],
 "metadata": {
  "kernelspec": {
   "display_name": "Python 3",
   "language": "python",
   "name": "python3"
  },
  "language_info": {
   "codemirror_mode": {
    "name": "ipython",
    "version": 3
   },
   "file_extension": ".py",
   "mimetype": "text/x-python",
   "name": "python",
   "nbconvert_exporter": "python",
   "pygments_lexer": "ipython3",
   "version": "3.8.8"
  }
 },
 "nbformat": 4,
 "nbformat_minor": 5
}
